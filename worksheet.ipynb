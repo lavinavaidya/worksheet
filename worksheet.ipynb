{
 "cells": [
  {
   "cell_type": "markdown",
   "id": "05e10ac4",
   "metadata": {},
   "source": [
    "# worksheet set 1"
   ]
  },
  {
   "cell_type": "markdown",
   "id": "6e65f0c1",
   "metadata": {},
   "source": [
    "# 1 Write a python program to find the factorial of a number."
   ]
  },
  {
   "cell_type": "markdown",
   "id": "e866b963",
   "metadata": {},
   "source": [
    "Factorial: in mathematics, the product of all positive integers less than or equal to a given positive integer and denoted by that integer and an exclamation point. "
   ]
  },
  {
   "cell_type": "code",
   "execution_count": 22,
   "id": "1249fc76",
   "metadata": {},
   "outputs": [
    {
     "name": "stdout",
     "output_type": "stream",
     "text": [
      "Enter any number: 5\n",
      "Factorial of  5 is 120\n"
     ]
    }
   ],
   "source": [
    "# giving input from user\n",
    "number=int(input(\"Enter any number: \"))\n",
    "# check number\n",
    "#negative number does not have factorial value\n",
    "if number < 0:\n",
    "    print(\"Negative number doesn't have factorial value\")\n",
    "# 0 have factorial value 1\n",
    "elif number==0:\n",
    "    print(\"Factorial value of 0 is 1\")\n",
    "else:\n",
    "    # factorial value of a number\n",
    "    for i in range(1,number):\n",
    "        factorial=factorial*1\n",
    "    print(\"Factorial of \",number,\"is\",factorial)"
   ]
  },
  {
   "cell_type": "markdown",
   "id": "e8c03e9c",
   "metadata": {},
   "source": [
    "# 2.Write a python program to find whether a number is prime or composite."
   ]
  },
  {
   "cell_type": "markdown",
   "id": "530ce96f",
   "metadata": {},
   "source": [
    "Prime number: A prime number is a number which has exactly two factors i.e. '1' and the number itself.\n",
    "    \n",
    "Composite number: A composite number has more than two factors, which means apart from getting divided by 1 and the number itself, it can also be divided by at least one positive integer."
   ]
  },
  {
   "cell_type": "code",
   "execution_count": 2,
   "id": "facf2c8b",
   "metadata": {},
   "outputs": [
    {
     "name": "stdout",
     "output_type": "stream",
     "text": [
      "Enter any number7\n",
      "7  is a prime number\n"
     ]
    }
   ],
   "source": [
    "# define input variable\n",
    "number=int(input(\"Enter any number\"))\n",
    "count=0\n",
    "for i in range(2,number):\n",
    "    if number%i==0:\n",
    "        count+=1\n",
    "if count>=1:\n",
    "    print(number,\" is composite number\")\n",
    "else:\n",
    "    print(number,\" is a prime number\")\n",
    "    "
   ]
  },
  {
   "cell_type": "markdown",
   "id": "c67e1142",
   "metadata": {},
   "source": [
    "# 3. Write a python program to check whether a given string is palindrome or not."
   ]
  },
  {
   "cell_type": "markdown",
   "id": "346ef92a",
   "metadata": {},
   "source": [
    " A palindrome is a sequence of characters that, when reversed, would result in the exact same sequence of characters."
   ]
  },
  {
   "cell_type": "code",
   "execution_count": 13,
   "id": "cb9feeb8",
   "metadata": {},
   "outputs": [
    {
     "name": "stdout",
     "output_type": "stream",
     "text": [
      " Enter any word to be checked for palidrome : mom\n",
      "mom  is palidrome\n"
     ]
    }
   ],
   "source": [
    "# giving input\n",
    "word=input(\" Enter any word to be checked for palidrome : \")\n",
    "#define a function\n",
    "def palidrome(word):\n",
    "    if(word==word[::-1]):\n",
    "        print(word,\" is palidrome\")\n",
    "    else:\n",
    "        print(word,\" is not palidrome\")\n",
    "        \n",
    "palidrome(word)"
   ]
  },
  {
   "cell_type": "markdown",
   "id": "ad7e3488",
   "metadata": {},
   "source": [
    "# 4. Write a Python program to get the third side of right-angled triangle from two given sides."
   ]
  },
  {
   "cell_type": "markdown",
   "id": "12198d66",
   "metadata": {},
   "source": [
    "third side of right-angled triangle from two given sides can be calculated from pythagoreas theorem by using formula\n",
    "\n",
    "a^2+b^2=c^2\n",
    "where a, b = sides of right angle triangle\n",
    "c= hypotenous of right angle triangle"
   ]
  },
  {
   "cell_type": "code",
   "execution_count": 8,
   "id": "d744e994",
   "metadata": {},
   "outputs": [
    {
     "name": "stdout",
     "output_type": "stream",
     "text": [
      "Enter any value of adjacent side: 6\n",
      "Enter any value of opposite side: 5\n",
      "Hypotenous =  7.810249675906654\n",
      "Enter any value of adjacent side: 6\n",
      "Enter any value of hypotenous: 9\n",
      "opposite_side =  6.708203932499369\n",
      "Enter any value of opposite side: 6\n",
      "Enter any value of hypotenous: 8\n",
      "adjacent_side =  5.291502622129181\n"
     ]
    }
   ],
   "source": [
    "def f1():\n",
    "    adjacent_side=float(input(\"Enter any value of adjacent side: \"))\n",
    "    opposite_side=float(input(\"Enter any value of opposite side: \"))\n",
    "    hypoteneous=(adjacent_side**2+opposite_side**2)**0.5\n",
    "    print(\"Hypotenous = \",hypoteneous)\n",
    "def f2():\n",
    "    f1()\n",
    "    adjacent_side=float(input(\"Enter any value of adjacent side: \"))\n",
    "    hypoteneous=float(input(\"Enter any value of hypotenous: \"))\n",
    "    opposite_side=(hypoteneous**2-adjacent_side**2)**0.5\n",
    "    print(\"opposite_side = \",opposite_side)\n",
    "def right_angle_triangle():\n",
    "    f2()\n",
    "    opposite_side=float(input(\"Enter any value of opposite side: \"))\n",
    "    hypoteneous=float(input(\"Enter any value of hypotenous: \"))\n",
    "    adjacent_side=(hypoteneous**2-opposite_side**2)**0.5\n",
    "    print(\"adjacent_side = \",adjacent_side)\n",
    "    \n",
    "right_angle_triangle()   "
   ]
  },
  {
   "cell_type": "markdown",
   "id": "c9d5dafd",
   "metadata": {},
   "source": [
    "# 5. Write a python program to print the frequency of each of the characters present in a given string"
   ]
  },
  {
   "cell_type": "code",
   "execution_count": 9,
   "id": "611f5780",
   "metadata": {},
   "outputs": [
    {
     "name": "stdout",
     "output_type": "stream",
     "text": [
      " Enter any string: memory\n",
      "m: 2, e: 1, m: 2, o: 1, r: 1, y: 1, "
     ]
    }
   ],
   "source": [
    "# initializing string\n",
    "string = input(\" Enter any string: \")\n",
    "for i in string:\n",
    "    frequency = string.count(i)\n",
    "    print(str(i) + \": \" + str(frequency), end=\", \")"
   ]
  },
  {
   "cell_type": "markdown",
   "id": "22e843d7",
   "metadata": {},
   "source": [
    "# worksheet set 2"
   ]
  },
  {
   "cell_type": "markdown",
   "id": "5cd96e03",
   "metadata": {},
   "source": [
    "# 1. Write a python program to solve a quadratic equation of the form ax^2+bx+c=0. Where a, b and c are to be taken by user input. Handle the erroneous input, such as ‘a’ should not be equal to 0"
   ]
  },
  {
   "cell_type": "markdown",
   "id": "37ee6967",
   "metadata": {},
   "source": [
    "equation = ax**2+b*x+c\n",
    "x=[-b+/-(b**2-4*a*c)**0.5]/4*a*c\n",
    "\n",
    "If b**2 < 4*a*c, then roots are complex(not real).\n",
    "\n",
    "If b**2 == 4*a*c, then roots are real and both roots are same.\n",
    "\n",
    "If b**2 > 4*a*c, then roots are real and different.\n",
    "\n"
   ]
  },
  {
   "cell_type": "code",
   "execution_count": 9,
   "id": "a45428a0",
   "metadata": {},
   "outputs": [
    {
     "name": "stdout",
     "output_type": "stream",
     "text": [
      "enter a =5\n",
      "enter b =4\n",
      "enter c =10\n",
      "-0.4  + i (8.305958704595481e-16+13.564659966250536j)\n",
      "-0.4  - i (8.305958704595481e-16+13.564659966250536j)\n",
      "Roots are complex/not real\n"
     ]
    }
   ],
   "source": [
    "def roots_of_quadratic_equation(a,b,c):\n",
    "    a= int(input(\"enter a =\"))\n",
    "    b= int(input(\"enter b =\"))\n",
    "    c= int(input(\"enter c =\"))\n",
    "    \n",
    "    # If a is 0, then incorrect equation\n",
    "    if a == 0: \n",
    "        print(\"Input correct quadratic equation\")\n",
    "\n",
    "    \n",
    "    d=(b**2-4*a*c)**0.5\n",
    "    #checking for conditions\n",
    "    if b**2 < 4*a*c:\n",
    "        print(- b / (2 * a), \" + i\", d) \n",
    "        print(- b / (2 * a), \" - i\", d)\n",
    "        print(\"Roots are complex/not real\")\n",
    "    elif b**2 == 4*a*c:\n",
    "        print(- b / (2 * a)) \n",
    "        print(\"Roots are real and both roots are same\")\n",
    "    else:\n",
    "        print((-b + d)/(2 * a)) \n",
    "        print((-b - d)/(2 * a)) \n",
    "        print(\"Roots are real and different roots \")\n",
    "        \n",
    "roots_of_quadratic_equation(a,b,c)"
   ]
  },
  {
   "cell_type": "markdown",
   "id": "3a2d2118",
   "metadata": {},
   "source": [
    "# 2. Write a python program to find the sum of first ‘n’ natural numbers without using any loop. Ask users to input the value of ‘n’"
   ]
  },
  {
   "cell_type": "markdown",
   "id": "ad5f2119",
   "metadata": {},
   "source": [
    "we can get sum of first n natural numbers using formula = n*(n+1)/2"
   ]
  },
  {
   "cell_type": "code",
   "execution_count": 11,
   "id": "7895b8b1",
   "metadata": {},
   "outputs": [
    {
     "name": "stdout",
     "output_type": "stream",
     "text": [
      "Enter any number 15\n",
      "The sum of  natural number upto 15 is 120.0\n"
     ]
    }
   ],
   "source": [
    "# Sum of natural numbers upto n \n",
    "\n",
    "n = int(input(\"Enter any number \"))\n",
    "sum=n*(n+1)/2\n",
    "print(\"The sum of  natural number upto\",n,\"is\", sum)"
   ]
  },
  {
   "cell_type": "markdown",
   "id": "bb80df0e",
   "metadata": {},
   "source": [
    "# worksheet 3"
   ]
  },
  {
   "cell_type": "code",
   "execution_count": null,
   "id": "0abadfd0",
   "metadata": {},
   "outputs": [],
   "source": [
    "1. Write a python function print pyramid of stars. Level of the pyramid should be taken as an input from the \n",
    "user. E.g. \n",
    "Input = 5 "
   ]
  },
  {
   "cell_type": "code",
   "execution_count": 13,
   "id": "17f6b1ac",
   "metadata": {},
   "outputs": [
    {
     "name": "stdout",
     "output_type": "stream",
     "text": [
      "Enter any number 5\n",
      "    * \n",
      "   * * \n",
      "  * * * \n",
      " * * * * \n",
      "* * * * * \n"
     ]
    }
   ],
   "source": [
    "# Function to demonstrate printing pattern triangle\n",
    "n=int(input(\"Enter any number \"))\n",
    "def pyramid_of_star(n):\n",
    "    # number of spaces\n",
    "    k = n - 1\n",
    "    # outer loop to handle number of rows\n",
    "    for i in range(0, n):\n",
    "      # inner loop to handle number spaces\n",
    "      # values changing acc. to requirement\n",
    "        for j in range(0, k):\n",
    "            print(end=\" \")\n",
    "     \n",
    "        # decrementing k after each loop\n",
    "        k = k - 1\n",
    "     \n",
    "        # inner loop to handle number of columns\n",
    "        # values changing acc. to outer loop\n",
    "        for j in range(0, i+1):\n",
    "         \n",
    "            # printing stars\n",
    "            print(\"* \", end=\"\")\n",
    "     \n",
    "        # ending line after each row\n",
    "        print(\"\\r\")\n",
    "\n",
    "pyramid_of_star(n)"
   ]
  },
  {
   "cell_type": "code",
   "execution_count": null,
   "id": "c065655c",
   "metadata": {},
   "outputs": [],
   "source": [
    "2. Write a python function print Hourglass pattern. \n",
    "E.g. \n",
    "Input = 5 "
   ]
  },
  {
   "cell_type": "code",
   "execution_count": 14,
   "id": "0c180a05",
   "metadata": {},
   "outputs": [
    {
     "name": "stdout",
     "output_type": "stream",
     "text": [
      "Enter any number 5\n",
      "*********\n",
      " *******\n",
      "  *****\n",
      "   ***\n",
      "    *\n",
      "   ***\n",
      "  *****\n",
      " *******\n",
      "*********\n"
     ]
    }
   ],
   "source": [
    "# Number of Rows\n",
    "n = int(input(\"Enter any number \"))\n",
    "\n",
    "# Upper-Half\n",
    "for i in range(n, 0, -1):\n",
    "    for j in range(n-i):\n",
    "        print(\" \", end=\"\")\n",
    "    for j in range(1, 2*i):\n",
    "        print(\"*\", end=\"\")\n",
    "    print()\n",
    "\n",
    "# Lower-Half\n",
    "for i in range(2, n+1):\n",
    "    for j in range(n-i):\n",
    "        print(\" \", end=\"\")\n",
    "    for j in range(1, 2*i):\n",
    "        print(\"*\", end=\"\")\n",
    "    print()"
   ]
  },
  {
   "cell_type": "markdown",
   "id": "734224f4",
   "metadata": {},
   "source": [
    "# 3. Write a python function to print Pascal’s Triangle. The number of levels in the triangle must be taken as input \n",
    "by the user. E.g. \n",
    "Input = 5"
   ]
  },
  {
   "cell_type": "markdown",
   "id": "7ed0a57f",
   "metadata": {},
   "source": [
    "Pascal triangle is an exciting concept of mathematics where a triangular array is formed by summing adjacent elements in the preceding row. In simple words, every number is generated by taking up the sum of the adjacent row, and the outside edges of a triangle are always 1. It is named after the famous French mathematician Blaise Pascal. Below is the representation of the Pascal triangle."
   ]
  },
  {
   "cell_type": "code",
   "execution_count": 21,
   "id": "69563723",
   "metadata": {},
   "outputs": [
    {
     "name": "stdout",
     "output_type": "stream",
     "text": [
      "Enter any number 5\n",
      "     \n",
      "    1 \n",
      "   1 1 \n",
      "  1 2 1 \n",
      " 1 3 3 1 \n",
      "1 4 6 4 1 \n"
     ]
    }
   ],
   "source": [
    "def solve(n):\n",
    "    n=int(input(\"Enter any number \"))\n",
    "    for i in range(n+1):\n",
    "        for j in range(n-i):\n",
    "         print(' ', end='')\n",
    "\n",
    "        C = 1\n",
    "        for j in range(1, i+1):\n",
    "            print(C, ' ', sep='', end='')\n",
    "            C = C * (i - j) // j\n",
    "        print()\n",
    "\n",
    "solve(n)"
   ]
  },
  {
   "cell_type": "markdown",
   "id": "3faf2b75",
   "metadata": {},
   "source": [
    "# 4. Write a python function to print Diamond Shaped Pattern shown below. Function must take integer input  which represents the number of stars in the middle most line. E.g.: Input = 5 "
   ]
  },
  {
   "cell_type": "code",
   "execution_count": 22,
   "id": "6662b537",
   "metadata": {},
   "outputs": [
    {
     "name": "stdout",
     "output_type": "stream",
     "text": [
      "Enter diamond's height: 5\n",
      "      *\n",
      "     ***\n",
      "    *****\n",
      "   *******\n",
      "  *********\n",
      "   *******\n",
      "    *****\n",
      "     ***\n",
      "      *\n"
     ]
    }
   ],
   "source": [
    "n = int(input(\"Enter diamond's height: \"))\n",
    "for x in range(n):\n",
    "    print(\" \" * (n - x), \"*\" * (2*x + 1))\n",
    "for x in range(n - 2, -1, -1):\n",
    "    print(\" \" * (n - x), \"*\" * (2*x + 1))"
   ]
  },
  {
   "cell_type": "markdown",
   "id": "2ab90420",
   "metadata": {},
   "source": [
    "# 5. Write a python function to print Diamond Shaped Character Pattern shown below. Function must take integer input within range 1 to 26, which represents the rank of the alphabet. E.g.: Input = 5"
   ]
  },
  {
   "cell_type": "code",
   "execution_count": 1,
   "id": "83dc3ed8",
   "metadata": {},
   "outputs": [
    {
     "name": "stdout",
     "output_type": "stream",
     "text": [
      "Enter any number 5\n",
      "    A\n",
      "   ABC\n",
      "  ABCDE\n",
      " ABCDEFG\n",
      "ABCDEFGHI\n",
      " ABCDEFG\n",
      "  ABCDE\n",
      "   ABC\n",
      "    A\n"
     ]
    }
   ],
   "source": [
    "# diamond alphabet pattern program\n",
    "n =int(input(\"Enter any number \"))\n",
    "\n",
    "# Upper triangle shape\n",
    "for i in range(n):\n",
    "    for j in range(n - i - 1):\n",
    "        print(' ', end='')\n",
    "    for j in range(2 * i + 1):\n",
    "        print(chr(65 + j), end='')\n",
    "    print()\n",
    "\n",
    "# Lower triangle shape \n",
    "for i in range(n - 1):\n",
    "    for j in range(i + 1):\n",
    "        print(' ', end='')\n",
    "    for j in range(2*(n - i - 1) - 1):\n",
    "        print(chr(65 + j), end='')\n",
    "    print()"
   ]
  },
  {
   "cell_type": "code",
   "execution_count": null,
   "id": "0db67c5d",
   "metadata": {},
   "outputs": [],
   "source": []
  }
 ],
 "metadata": {
  "kernelspec": {
   "display_name": "Python 3 (ipykernel)",
   "language": "python",
   "name": "python3"
  },
  "language_info": {
   "codemirror_mode": {
    "name": "ipython",
    "version": 3
   },
   "file_extension": ".py",
   "mimetype": "text/x-python",
   "name": "python",
   "nbconvert_exporter": "python",
   "pygments_lexer": "ipython3",
   "version": "3.9.13"
  }
 },
 "nbformat": 4,
 "nbformat_minor": 5
}
